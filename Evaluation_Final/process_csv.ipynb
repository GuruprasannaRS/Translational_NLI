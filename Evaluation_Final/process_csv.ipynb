{
 "cells": [
  {
   "cell_type": "code",
   "execution_count": 1,
   "metadata": {},
   "outputs": [],
   "source": [
    "import pandas as pd\n",
    "import pyarrow.parquet as pq\n",
    "from sklearn.model_selection import train_test_split\n"
   ]
  },
  {
   "cell_type": "code",
   "execution_count": 2,
   "metadata": {},
   "outputs": [],
   "source": [
    "df_hypothesis = pd.read_csv(r'D:\\UWaterloo\\MSCI_641_Text_Analytics\\Project\\Data\\predicted_hypo.csv')\n",
    "df_premises_1000 = pd.read_csv(r'D:\\UWaterloo\\MSCI_641_Text_Analytics\\Project\\Data\\predicted_prem_1000.csv')\n",
    "df_premises_2000 = pd.read_csv(r'D:\\UWaterloo\\MSCI_641_Text_Analytics\\Project\\Data\\predicted_prem_2000.csv')"
   ]
  },
  {
   "cell_type": "code",
   "execution_count": 3,
   "metadata": {},
   "outputs": [],
   "source": [
    "df_premises = pd.concat([df_premises_1000, df_premises_2000], axis=0)\n",
    "df_premises = df_premises.reset_index(drop=True)"
   ]
  },
  {
   "cell_type": "code",
   "execution_count": 4,
   "metadata": {},
   "outputs": [],
   "source": [
    "df = pd.concat([df_premises, df_hypothesis], axis=1)"
   ]
  },
  {
   "cell_type": "code",
   "execution_count": 5,
   "metadata": {},
   "outputs": [
    {
     "data": {
      "text/html": [
       "<div>\n",
       "<style scoped>\n",
       "    .dataframe tbody tr th:only-of-type {\n",
       "        vertical-align: middle;\n",
       "    }\n",
       "\n",
       "    .dataframe tbody tr th {\n",
       "        vertical-align: top;\n",
       "    }\n",
       "\n",
       "    .dataframe thead th {\n",
       "        text-align: right;\n",
       "    }\n",
       "</style>\n",
       "<table border=\"1\" class=\"dataframe\">\n",
       "  <thead>\n",
       "    <tr style=\"text-align: right;\">\n",
       "      <th></th>\n",
       "      <th>Predicted French premises</th>\n",
       "      <th>Predicted French Hypothesis</th>\n",
       "    </tr>\n",
       "  </thead>\n",
       "  <tbody>\n",
       "    <tr>\n",
       "      <th>0</th>\n",
       "      <td>Emily Ratajkowski. La carrière de mannequinage...</td>\n",
       "      <td>Emily Ratajkowski a modélisé pour les publicit...</td>\n",
       "    </tr>\n",
       "    <tr>\n",
       "      <th>1</th>\n",
       "      <td>National▁Recording▁Registry. Les enregistremen...</td>\n",
       "      <td>Red Headed▁Stranger est une œuvre.</td>\n",
       "    </tr>\n",
       "  </tbody>\n",
       "</table>\n",
       "</div>"
      ],
      "text/plain": [
       "                           Predicted French premises   \n",
       "0  Emily Ratajkowski. La carrière de mannequinage...  \\\n",
       "1  National▁Recording▁Registry. Les enregistremen...   \n",
       "\n",
       "                         Predicted French Hypothesis  \n",
       "0  Emily Ratajkowski a modélisé pour les publicit...  \n",
       "1                 Red Headed▁Stranger est une œuvre.  "
      ]
     },
     "execution_count": 5,
     "metadata": {},
     "output_type": "execute_result"
    }
   ],
   "source": [
    "df.head(2)"
   ]
  },
  {
   "cell_type": "code",
   "execution_count": 6,
   "metadata": {},
   "outputs": [],
   "source": [
    "filepath  = r'D:\\UWaterloo\\MSCI_641_Text_Analytics\\Project\\Data\\fr_fever-00000-of-00001-b7ec330d6224f90b.parquet' \n",
    "table = pq.read_table(filepath)\n",
    "df_o = table.to_pandas()"
   ]
  },
  {
   "cell_type": "code",
   "execution_count": 7,
   "metadata": {},
   "outputs": [
    {
     "data": {
      "text/html": [
       "<div>\n",
       "<style scoped>\n",
       "    .dataframe tbody tr th:only-of-type {\n",
       "        vertical-align: middle;\n",
       "    }\n",
       "\n",
       "    .dataframe tbody tr th {\n",
       "        vertical-align: top;\n",
       "    }\n",
       "\n",
       "    .dataframe thead th {\n",
       "        text-align: right;\n",
       "    }\n",
       "</style>\n",
       "<table border=\"1\" class=\"dataframe\">\n",
       "  <thead>\n",
       "    <tr style=\"text-align: right;\">\n",
       "      <th></th>\n",
       "      <th>premise_original</th>\n",
       "      <th>hypothesis_original</th>\n",
       "      <th>label</th>\n",
       "      <th>premise</th>\n",
       "      <th>hypothesis</th>\n",
       "    </tr>\n",
       "  </thead>\n",
       "  <tbody>\n",
       "    <tr>\n",
       "      <th>0</th>\n",
       "      <td>Islam . Sizable Muslim communities are also fo...</td>\n",
       "      <td>Islam does not have any followers.</td>\n",
       "      <td>2</td>\n",
       "      <td>Des communautés musulmanes considérables se tr...</td>\n",
       "      <td>L’islam n’a pas d’adeptes.</td>\n",
       "    </tr>\n",
       "    <tr>\n",
       "      <th>1</th>\n",
       "      <td>Gemini is a 2002 Indian Tamil-language action ...</td>\n",
       "      <td>Gemini is a movie that came out in 2002.</td>\n",
       "      <td>0</td>\n",
       "      <td>Gemini est un film d'action indien écrit et ré...</td>\n",
       "      <td>Gemini est un film sorti en 2002.</td>\n",
       "    </tr>\n",
       "  </tbody>\n",
       "</table>\n",
       "</div>"
      ],
      "text/plain": [
       "                                    premise_original   \n",
       "0  Islam . Sizable Muslim communities are also fo...  \\\n",
       "1  Gemini is a 2002 Indian Tamil-language action ...   \n",
       "\n",
       "                        hypothesis_original  label   \n",
       "0        Islam does not have any followers.      2  \\\n",
       "1  Gemini is a movie that came out in 2002.      0   \n",
       "\n",
       "                                             premise   \n",
       "0  Des communautés musulmanes considérables se tr...  \\\n",
       "1  Gemini est un film d'action indien écrit et ré...   \n",
       "\n",
       "                          hypothesis  \n",
       "0         L’islam n’a pas d’adeptes.  \n",
       "1  Gemini est un film sorti en 2002.  "
      ]
     },
     "execution_count": 7,
     "metadata": {},
     "output_type": "execute_result"
    }
   ],
   "source": [
    "df_o.head(2)"
   ]
  },
  {
   "cell_type": "code",
   "execution_count": 8,
   "metadata": {},
   "outputs": [],
   "source": [
    "#Splitting hypothesis\n",
    "english_train_hyp, english_test_hyp, french_train_hyp, french_test_hyp, train_labels, test_labels = train_test_split(df_o['hypothesis_original'], df_o['hypothesis'],df_o['label'],\n",
    "                                                                                          test_size = 0.2, random_state = 42)"
   ]
  },
  {
   "cell_type": "code",
   "execution_count": 9,
   "metadata": {},
   "outputs": [],
   "source": [
    "test_labels.reset_index(drop=True, inplace=True)\n",
    "df.reset_index(drop=True, inplace=True)"
   ]
  },
  {
   "cell_type": "code",
   "execution_count": 10,
   "metadata": {},
   "outputs": [],
   "source": [
    "test_labels = test_labels.astype('int64')\n",
    "df['label'] = test_labels"
   ]
  },
  {
   "cell_type": "code",
   "execution_count": 11,
   "metadata": {},
   "outputs": [],
   "source": [
    "new_column_names = {'Predicted French premises': 'premise', 'Predicted French Hypothesis': 'hypothesis'}\n",
    "df.rename(columns=new_column_names, inplace=True)"
   ]
  },
  {
   "cell_type": "code",
   "execution_count": 12,
   "metadata": {},
   "outputs": [
    {
     "data": {
      "text/html": [
       "<div>\n",
       "<style scoped>\n",
       "    .dataframe tbody tr th:only-of-type {\n",
       "        vertical-align: middle;\n",
       "    }\n",
       "\n",
       "    .dataframe tbody tr th {\n",
       "        vertical-align: top;\n",
       "    }\n",
       "\n",
       "    .dataframe thead th {\n",
       "        text-align: right;\n",
       "    }\n",
       "</style>\n",
       "<table border=\"1\" class=\"dataframe\">\n",
       "  <thead>\n",
       "    <tr style=\"text-align: right;\">\n",
       "      <th></th>\n",
       "      <th>premise</th>\n",
       "      <th>hypothesis</th>\n",
       "      <th>label</th>\n",
       "    </tr>\n",
       "  </thead>\n",
       "  <tbody>\n",
       "    <tr>\n",
       "      <th>0</th>\n",
       "      <td>Emily Ratajkowski. La carrière de mannequinage...</td>\n",
       "      <td>Emily Ratajkowski a modélisé pour les publicit...</td>\n",
       "      <td>0</td>\n",
       "    </tr>\n",
       "    <tr>\n",
       "      <th>1</th>\n",
       "      <td>National▁Recording▁Registry. Les enregistremen...</td>\n",
       "      <td>Red Headed▁Stranger est une œuvre.</td>\n",
       "      <td>0</td>\n",
       "    </tr>\n",
       "  </tbody>\n",
       "</table>\n",
       "</div>"
      ],
      "text/plain": [
       "                                             premise   \n",
       "0  Emily Ratajkowski. La carrière de mannequinage...  \\\n",
       "1  National▁Recording▁Registry. Les enregistremen...   \n",
       "\n",
       "                                          hypothesis  label  \n",
       "0  Emily Ratajkowski a modélisé pour les publicit...      0  \n",
       "1                 Red Headed▁Stranger est une œuvre.      0  "
      ]
     },
     "execution_count": 12,
     "metadata": {},
     "output_type": "execute_result"
    }
   ],
   "source": [
    "df.head(2)"
   ]
  },
  {
   "cell_type": "code",
   "execution_count": 13,
   "metadata": {},
   "outputs": [
    {
     "name": "stdout",
     "output_type": "stream",
     "text": [
      "Exported Final df successsfully\n"
     ]
    }
   ],
   "source": [
    "file_path = r'D:\\UWaterloo\\MSCI_641_Text_Analytics\\Project\\Output\\pred_df.csv'\n",
    "df.to_csv(file_path, index = False)\n",
    "print('Exported Final df successsfully')"
   ]
  }
 ],
 "metadata": {
  "kernelspec": {
   "display_name": "amazon_review",
   "language": "python",
   "name": "python3"
  },
  "language_info": {
   "codemirror_mode": {
    "name": "ipython",
    "version": 3
   },
   "file_extension": ".py",
   "mimetype": "text/x-python",
   "name": "python",
   "nbconvert_exporter": "python",
   "pygments_lexer": "ipython3",
   "version": "3.11.3"
  },
  "orig_nbformat": 4
 },
 "nbformat": 4,
 "nbformat_minor": 2
}
